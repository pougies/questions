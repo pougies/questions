{
 "cells": [
  {
   "cell_type": "markdown",
   "id": "7d63af28-7459-490d-831f-bfc360c71668",
   "metadata": {},
   "source": [
    "## Exo 1\n",
    "\n",
    "On veut implémenter la suite de fibonnaci"
   ]
  },
  {
   "cell_type": "markdown",
   "id": "63bc63af-720c-4554-9448-f690a30e25b4",
   "metadata": {},
   "source": [
    "La suite de Fibonacci $(F_n)_{n \\in \\mathbb{N}}$ est définie par :\n",
    "\n",
    "- $F_0 = 0$\n",
    "- $F_1 = 1$\n",
    "\n",
    "et la relation de récurrence :\n",
    "\n",
    "- $F_n = F_{n-1} + F_{n-2}$ pour $n \\geq 2$.\n",
    "\n",
    "Le tableau suivant donne les 15 premiers termes de la suite de Fibonacci :\n",
    "\n",
    "| $F_0$ | $F_1$ | $F_2$ | $F_3$ | $F_4$ | $F_5$ | $F_6$ | $F_7$ | $F_8$ | $F_9$ | $F_{10}$ | $F_{11}$ | $F_{12}$ | $F_{13}$ | $F_{14}$ | $F_{15}$ | ... | $F_n$ |\n",
    "|-------|-------|-------|-------|-------|-------|-------|-------|-------|-------|----------|----------|----------|----------|----------|----------|-----|-------|\n",
    "| 0     | 1     | 1     | 2     | 3     | 5     | 8     | 13    | 21    | 34    | 55       | 89       | 144      | 233      | 377      | 610      | ... | $F_{n-1} + F_{n-2}$ |"
   ]
  },
  {
   "cell_type": "markdown",
   "id": "9cd7f9f3-b5c0-4290-88b6-d65902417700",
   "metadata": {},
   "source": [
    "- Écrire la fonction et vérifier les resultats"
   ]
  },
  {
   "cell_type": "code",
   "execution_count": 11,
   "id": "8e9f3316-c065-4e63-8938-c805ea226b87",
   "metadata": {},
   "outputs": [],
   "source": [
    "# Compléter la fonction fibo telle qu'elle vérifie:\n",
    "#  fibo(0) = 0\n",
    "#  fibo(1) = 1\n",
    "#  fibo(n) = fibo(n-1) + fibo(n-2) pour n >= 2\n",
    "\n",
    "def fibo(n):\n",
    "    ..."
   ]
  },
  {
   "cell_type": "code",
   "execution_count": 10,
   "id": "8bdc2d5b-3b06-4f6d-8e9e-137d73d1a041",
   "metadata": {},
   "outputs": [],
   "source": [
    "assert fibo(0) == 0\n",
    "assert fibo(1) == 1\n",
    "assert fibo(6) == 8\n",
    "assert fibo(11) == 89"
   ]
  },
  {
   "cell_type": "markdown",
   "id": "9e7cd2a4-4bfd-4cb1-905e-80638edbb382",
   "metadata": {},
   "source": [
    "- Calculer fibo(41). Que remarque t on ?\n",
    "- Comment calculer fibo(200) ?"
   ]
  },
  {
   "cell_type": "markdown",
   "id": "83096a4d-601b-4796-b065-2ce8af38b712",
   "metadata": {},
   "source": [
    "## Exo 2"
   ]
  },
  {
   "cell_type": "markdown",
   "id": "cefc91f0-e7c0-4246-8210-669042bf36f4",
   "metadata": {},
   "source": [
    "- Citer quelques algo de tri et leur complexité.\n",
    "- En implémenter un"
   ]
  },
  {
   "cell_type": "code",
   "execution_count": null,
   "id": "c5c07758-7359-42b5-97b4-3117306bd4ed",
   "metadata": {},
   "outputs": [],
   "source": []
  }
 ],
 "metadata": {
  "kernelspec": {
   "display_name": "Python 3 (ipykernel)",
   "language": "python",
   "name": "python3"
  },
  "language_info": {
   "codemirror_mode": {
    "name": "ipython",
    "version": 3
   },
   "file_extension": ".py",
   "mimetype": "text/x-python",
   "name": "python",
   "nbconvert_exporter": "python",
   "pygments_lexer": "ipython3",
   "version": "3.12.4"
  }
 },
 "nbformat": 4,
 "nbformat_minor": 5
}
