{
 "cells": [
  {
   "cell_type": "markdown",
   "id": "f7243693-0edb-4b84-b95c-28fe27ffd1a1",
   "metadata": {},
   "source": [
    "### Exo1\n",
    "\n",
    "Debugger le code suivant"
   ]
  },
  {
   "cell_type": "code",
   "execution_count": null,
   "id": "420a0493-c18d-412d-b4f8-b83c6b00d91e",
   "metadata": {},
   "outputs": [],
   "source": [
    "def _send_mail(recipients):\n",
    "    print(f'{len(recipients)} mails sent')\n",
    "    print('\\n'.join(recipients))\n",
    "\n",
    "def send_newsletter(recipients=[], extras=[]):\n",
    "    if extras:\n",
    "        recipients.extend(extras)\n",
    "    _send_mail(recipients)"
   ]
  },
  {
   "cell_type": "code",
   "execution_count": null,
   "id": "a7f10ee4-918a-491b-9e3a-9a01c1a6dce4",
   "metadata": {},
   "outputs": [],
   "source": [
    "send_newsletter(extras=[\"marketing@sahar.fr\"])"
   ]
  },
  {
   "cell_type": "code",
   "execution_count": null,
   "id": "66af69ec-2e36-47c1-b2af-edc639da3d86",
   "metadata": {},
   "outputs": [],
   "source": [
    "send_newsletter(recipients=[\"test@sahar.fr\"])"
   ]
  },
  {
   "cell_type": "code",
   "execution_count": null,
   "id": "2498f182-c64f-4360-845d-748fba13acc3",
   "metadata": {},
   "outputs": [],
   "source": [
    "send_newsletter(extras=[\"ceo@sahar.fr\"])"
   ]
  },
  {
   "cell_type": "markdown",
   "id": "82e6b8f9-2409-4007-9572-3887b8184bd9",
   "metadata": {},
   "source": [
    "___"
   ]
  },
  {
   "cell_type": "markdown",
   "id": "73a48f4b-666b-4534-86df-cc30ce66d599",
   "metadata": {},
   "source": [
    "### Exo2\n",
    "\n",
    "Cette route de Django semble être a l'origine de bugs. On nous remonte que des posts n'ont pas autant de like que prévu. Pourquoi ?"
   ]
  },
  {
   "cell_type": "code",
   "execution_count": null,
   "id": "32f24b1e-7255-4407-ab8a-60fd04254207",
   "metadata": {},
   "outputs": [],
   "source": [
    "@api_view([\"POST\"])\n",
    "def add_like(request, pk):\n",
    "    twitter_post = TwitterPost.objects.get(pk=pk)\n",
    "    twitter_post.likes = twitter_post.likes + 1\n",
    "    twitter_post.save()\n",
    "\n",
    "    return Response({\"likes\": twitter_post.likes}, 200)"
   ]
  },
  {
   "cell_type": "code",
   "execution_count": null,
   "id": "96001974-3725-4967-9381-1ee345720e7b",
   "metadata": {},
   "outputs": [],
   "source": []
  }
 ],
 "metadata": {
  "kernelspec": {
   "display_name": "Python 3 (ipykernel)",
   "language": "python",
   "name": "python3"
  },
  "language_info": {
   "codemirror_mode": {
    "name": "ipython",
    "version": 3
   },
   "file_extension": ".py",
   "mimetype": "text/x-python",
   "name": "python",
   "nbconvert_exporter": "python",
   "pygments_lexer": "ipython3",
   "version": "3.12.4"
  }
 },
 "nbformat": 4,
 "nbformat_minor": 5
}
