{
 "cells": [
  {
   "cell_type": "markdown",
   "id": "1c32f789-d09b-4bdd-805c-1a7f9f3e7eee",
   "metadata": {},
   "source": [
    "### Exo 1"
   ]
  },
  {
   "cell_type": "markdown",
   "id": "82e4f2da-0328-42a2-a0ed-eaa0b7c90d83",
   "metadata": {},
   "source": [
    "Discuter de ce code. "
   ]
  },
  {
   "cell_type": "code",
   "execution_count": null,
   "id": "64afad4d-e094-4488-b8a5-a6d1fa2ed94f",
   "metadata": {},
   "outputs": [],
   "source": [
    "from functools import reduce\n",
    "\n",
    "def compute_sum(values, initial_value):\n",
    "    return reduce(\n",
    "        lambda x, y: x + y if y else x, values, initial_value if initial_value else 0\n",
    "    )"
   ]
  },
  {
   "cell_type": "markdown",
   "id": "8f3bb895-ff69-4b93-bd41-13c847432ba4",
   "metadata": {},
   "source": [
    "### Exo 2\n",
    "\n",
    "Une étudiante vient d'apprendre la programmation objet.\n",
    "\n",
    "Elle a écrit un programme pour une calculatrice.\n",
    "\n",
    "Discuter du code."
   ]
  },
  {
   "cell_type": "code",
   "execution_count": 2,
   "id": "fb0cb5aa-10d5-4277-8aab-bab2f0da2d64",
   "metadata": {},
   "outputs": [],
   "source": [
    "import string\n",
    "\n",
    "# put all alphabeth into a list\n",
    "alphabet = list(string.ascii_letters)\n",
    "\n",
    "\"\"\"_summary_\n",
    "\"\"\"\n",
    "# print(numbers)\n",
    "\n",
    "class Calc:\n",
    "    def __init__(self) -> None:\n",
    "        # will take all calculations and results\n",
    "        self.all_calc = {}\n",
    "\n",
    "        while True:\n",
    "            self.calculate()\n",
    "            self.ask_again()\n",
    "\n",
    "    def calculate(self):\n",
    "        calc = input(\" ---> \")\n",
    "        elements = []\n",
    "        result = \"\"\n",
    "        \n",
    "        if calc == \"\":\n",
    "            return self.calculate()\n",
    "        # separate all elements of input\n",
    "        for char in calc:\n",
    "            elements.append(char)\n",
    "        # check if a letter of alphabet is find on input\n",
    "        if any(char in elements for char in alphabet):\n",
    "            # if True :\n",
    "            print(\"ValueError : You must use only numbers and operators \")\n",
    "            return self.calculate()\n",
    "        # if False :\n",
    "        # get cacul to str\n",
    "        result = eval(result.join(elements))\n",
    "        # transform str value to obj -> calculate\n",
    "        self.all_calc[f\"{calc}\"] = result\n",
    "        print(result)\n",
    "        \n",
    "    def ask_again(self):\n",
    "        answer = input(\"Do you want to continue ? ( Y / N ) -> \").lower()\n",
    "        while True:\n",
    "            if answer == 'y':\n",
    "                break\n",
    "            elif answer == 'n':\n",
    "                # TODO: show caculs and all results --> self.all_calc\n",
    "                print(\"Your calculations were :\")\n",
    "                for key, value in self.all_calc.items():\n",
    "                    print(\"   \",key,\" -> \", value)\n",
    "                raise(Exception)\n",
    "            else: \n",
    "                return self.ask_again()"
   ]
  },
  {
   "cell_type": "code",
   "execution_count": null,
   "id": "0e515417-7229-476f-b241-e2a2542bb684",
   "metadata": {},
   "outputs": [],
   "source": []
  }
 ],
 "metadata": {
  "kernelspec": {
   "display_name": "Python 3 (ipykernel)",
   "language": "python",
   "name": "python3"
  },
  "language_info": {
   "codemirror_mode": {
    "name": "ipython",
    "version": 3
   },
   "file_extension": ".py",
   "mimetype": "text/x-python",
   "name": "python",
   "nbconvert_exporter": "python",
   "pygments_lexer": "ipython3",
   "version": "3.12.4"
  }
 },
 "nbformat": 4,
 "nbformat_minor": 5
}
