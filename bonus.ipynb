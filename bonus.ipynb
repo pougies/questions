{
 "cells": [
  {
   "cell_type": "code",
   "execution_count": null,
   "id": "b7d7f6c3-7e46-4a6a-956b-a090b603800d",
   "metadata": {},
   "outputs": [],
   "source": [
    "# Le code a été perdu !\n",
    "# Peux-tu le réécrire ?\n",
    "x = ... # ?"
   ]
  },
  {
   "cell_type": "code",
   "execution_count": null,
   "id": "0261c7b7-b68d-469f-8d3f-9547e0103857",
   "metadata": {},
   "outputs": [],
   "source": [
    "assert 7 < x and x < 9\n",
    "assert (x == 8) is False\n",
    "assert type(x) == int"
   ]
  }
 ],
 "metadata": {
  "kernelspec": {
   "display_name": "Python 3 (ipykernel)",
   "language": "python",
   "name": "python3"
  },
  "language_info": {
   "codemirror_mode": {
    "name": "ipython",
    "version": 3
   },
   "file_extension": ".py",
   "mimetype": "text/x-python",
   "name": "python",
   "nbconvert_exporter": "python",
   "pygments_lexer": "ipython3",
   "version": "3.12.4"
  }
 },
 "nbformat": 4,
 "nbformat_minor": 5
}
