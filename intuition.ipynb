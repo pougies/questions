{
 "cells": [
  {
   "cell_type": "markdown",
   "id": "82125fbf-15e6-4a0e-a3e5-4ca58adf16a9",
   "metadata": {},
   "source": [
    "# Intuition et Estimation\n",
    "\n",
    "Répondre à deux questions parmi celles proposées"
   ]
  },
  {
   "cell_type": "markdown",
   "id": "6376441b-f967-4b25-9e16-bb343f98e431",
   "metadata": {},
   "source": [
    "- Combien de voyageurs peut transporter un métro ?\n",
    "- Combien de petits cubes sont à la surface d'un rubik's-cube 7x7 ?\n",
    "- Une baleine bleue consomme uniquement du phito-plancton. Combien de temps par jour doit-elle consacrer à se nourrir ?\n",
    "- Quel volume de données est généré chaque jour dans le monde via Slack ?"
   ]
  },
  {
   "cell_type": "markdown",
   "id": "3ce35b7e-4ced-483c-8f32-e74aaa2ed96a",
   "metadata": {},
   "source": []
  }
 ],
 "metadata": {
  "kernelspec": {
   "display_name": "Python 3 (ipykernel)",
   "language": "python",
   "name": "python3"
  },
  "language_info": {
   "codemirror_mode": {
    "name": "ipython",
    "version": 3
   },
   "file_extension": ".py",
   "mimetype": "text/x-python",
   "name": "python",
   "nbconvert_exporter": "python",
   "pygments_lexer": "ipython3",
   "version": "3.12.4"
  }
 },
 "nbformat": 4,
 "nbformat_minor": 5
}
