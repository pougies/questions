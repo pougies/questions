{
 "cells": [
  {
   "cell_type": "markdown",
   "id": "0e3780df-9844-41f7-abca-61dc0e6d12cc",
   "metadata": {},
   "source": [
    "### Exo 1\n",
    "\n",
    "On veut écrire une fonction qui calcule la somme des nombres pairs d'une liste.\n",
    "\n",
    "Cette fonction prend en entrée un liste d'entiers et renvoie un entier\n"
   ]
  },
  {
   "cell_type": "code",
   "execution_count": null,
   "id": "7d8f2c7f-509a-4747-bcee-d1f975ae53a0",
   "metadata": {},
   "outputs": [],
   "source": [
    "def even_numbers_sum(values):\n",
    "    ... # your magic here"
   ]
  },
  {
   "cell_type": "code",
   "execution_count": null,
   "id": "9a6dab3a-e0f3-446c-a257-5e1301c1eb33",
   "metadata": {},
   "outputs": [],
   "source": [
    "assert even_numbers_sum([1,2,3,4,5,6]) == 12\n",
    "assert even_numbers_sum([]) == 0\n",
    "assert even_numbers_sum([1]) == 0\n",
    "print(\"success\")"
   ]
  },
  {
   "cell_type": "markdown",
   "id": "eeca8881-6a3e-4526-8080-5ec5559307c4",
   "metadata": {},
   "source": [
    "___"
   ]
  },
  {
   "cell_type": "markdown",
   "id": "60033475-623f-4939-8e7d-4d505656e915",
   "metadata": {},
   "source": [
    "## Exo 2\n",
    "\n",
    "On donne une liste d'utilisateurs Twitter avec leur nombre d'abonnés et leur nombre de posts."
   ]
  },
  {
   "cell_type": "code",
   "execution_count": null,
   "id": "d0dff0c7-4ad6-4b3a-8de2-507f06f14ffb",
   "metadata": {},
   "outputs": [],
   "source": [
    "# (handle, follower_count, post_count)\n",
    "\n",
    "users = [\n",
    "    (\"@chatdev\", 1200, 345),\n",
    "    (\"@data_dude\", 9800, 1500),\n",
    "    (\"@code_cat\", 450, 120),\n",
    "    (\"@ml_guru\", 450, 980),\n",
    "    (\"@bytequeen\", 450, 120),\n",
    "    (\"@the_real_ai\", 2500, 540),\n",
    "    (\"@debug_dan\", 120, 45),\n",
    "    (\"@stack_sam\", 890, 300),\n",
    "    (\"@neural_nick\", 10400, 870),\n",
    "    (\"@bug_hunter\", 3700, 1320),\n",
    "]"
   ]
  },
  {
   "cell_type": "markdown",
   "id": "95599ecb-6043-4807-82d9-139d689c36a9",
   "metadata": {},
   "source": [
    "Trier la liste par nombre d'abonnées décroissant, puis par nombre de posts décroissant, puis par ordre alphabétique"
   ]
  },
  {
   "cell_type": "markdown",
   "id": "7dfeed28-dc0c-4b21-8a85-0544eb0c40be",
   "metadata": {},
   "source": [
    "___"
   ]
  },
  {
   "cell_type": "markdown",
   "id": "cdfa408c-68d8-47de-ba9d-f2031c3b97cd",
   "metadata": {},
   "source": [
    "## Exo 3\n",
    "\n",
    "On veut compter le nombre d'occurence d'un mot dans un texte.\n",
    "Ecrire la fonction et la tester"
   ]
  },
  {
   "cell_type": "code",
   "execution_count": null,
   "id": "eec02342-0c64-491b-9044-259858e86c49",
   "metadata": {},
   "outputs": [],
   "source": [
    "sample_text = \"\"\"\n",
    "Couronnés de thym et de marjolaine,\n",
    "Les Elfes joyeux dansent sur la plaine.\n",
    "\n",
    "Du sentier des bois aux daims familier,\n",
    "Sur un noir cheval, sort un chevalier.\n",
    "Son éperon d'or brille en la nuit brune ;\n",
    "Et, quand il traverse un ravon de lune,\n",
    "On voit resplendir, d'un reflet changeant,\n",
    "Sur sa chevelure un casque d'argent.\n",
    "\n",
    "Couronnés de thym et de marjolaine,\n",
    "Les Elfes joyeux dansent sur la plaine.\n",
    "\n",
    "Ils l'entourent tous d'un essaim léger\n",
    "Qui dans l'air muet semble voltiger.\n",
    "- Hardi chevalier, par la nuit sereine,\n",
    "Où vas-tu si tard ? dit la jeune Reine.\n",
    "De mauvais esprits hantent les forêts\n",
    "Viens danser plutôt sur les gazons frais.\n",
    "\"\"\""
   ]
  },
  {
   "cell_type": "code",
   "execution_count": null,
   "id": "40b4ca45-75f8-4b77-80dd-3dda95fef94c",
   "metadata": {},
   "outputs": [],
   "source": []
  }
 ],
 "metadata": {
  "kernelspec": {
   "display_name": "Python 3 (ipykernel)",
   "language": "python",
   "name": "python3"
  },
  "language_info": {
   "codemirror_mode": {
    "name": "ipython",
    "version": 3
   },
   "file_extension": ".py",
   "mimetype": "text/x-python",
   "name": "python",
   "nbconvert_exporter": "python",
   "pygments_lexer": "ipython3",
   "version": "3.12.8"
  }
 },
 "nbformat": 4,
 "nbformat_minor": 5
}
