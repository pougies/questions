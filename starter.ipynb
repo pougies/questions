{
 "cells": [
  {
   "cell_type": "markdown",
   "id": "0e3780df-9844-41f7-abca-61dc0e6d12cc",
   "metadata": {},
   "source": [
    "### Exo 1\n",
    "\n",
    "On veut écrire une fonction qui calcule la somme des nombres pairs d'une liste.\n",
    "\n",
    "Cette fonction prend en entrée un liste d'entiers et renvoie un entier\n"
   ]
  },
  {
   "cell_type": "code",
   "execution_count": null,
   "id": "7d8f2c7f-509a-4747-bcee-d1f975ae53a0",
   "metadata": {},
   "outputs": [],
   "source": [
    "def even_numbers_sum(values):\n",
    "    ... # your magic here"
   ]
  },
  {
   "cell_type": "code",
   "execution_count": null,
   "id": "9a6dab3a-e0f3-446c-a257-5e1301c1eb33",
   "metadata": {},
   "outputs": [],
   "source": [
    "assert even_numbers_sum([1,2,3,4,5,6]) == 12\n",
    "assert even_numbers_sum([]) == 0\n",
    "assert even_numbers_sum([1]) == 0\n",
    "print(\"success\")"
   ]
  },
  {
   "cell_type": "markdown",
   "id": "b2947a8e-d208-4bb6-adb3-083c99a02577",
   "metadata": {},
   "source": [
    "___"
   ]
  },
  {
   "cell_type": "markdown",
   "id": "aefc7494-6dea-4e1c-a99a-53cf923aabb5",
   "metadata": {},
   "source": [
    "### Exo 2\n",
    "Implémenter les méthodes manquantes de cette classe"
   ]
  },
  {
   "cell_type": "code",
   "execution_count": null,
   "id": "0217cb18-7c24-4130-809d-47a688faf064",
   "metadata": {},
   "outputs": [],
   "source": [
    "class Rectangle:\n",
    "    def __init__(self, width: float, height: float):\n",
    "        self.width = width\n",
    "        self.height = height\n",
    "\n",
    "    @property\n",
    "    def area(self) -> float:\n",
    "        pass\n",
    "\n",
    "    @property\n",
    "    def perimeter(self) -> float:\n",
    "        pass\n",
    "        \n",
    "    @property\n",
    "    def is_square(self) -> str:\n",
    "        pass\n",
    "\n",
    "        \n",
    "rectangle = Rectangle(2, 4)\n",
    "assert rectangle.area == 8\n",
    "assert rectangle.perimeter == 12\n",
    "assert not rectangle.is_square"
   ]
  },
  {
   "cell_type": "markdown",
   "id": "eeca8881-6a3e-4526-8080-5ec5559307c4",
   "metadata": {},
   "source": [
    "___"
   ]
  },
  {
   "cell_type": "markdown",
   "id": "cdfa408c-68d8-47de-ba9d-f2031c3b97cd",
   "metadata": {},
   "source": [
    "## Exo 3\n",
    "\n",
    "On veut compter le nombre d'occurence d'un mot dans un texte.\n",
    "Ecrire la fonction et la tester"
   ]
  },
  {
   "cell_type": "code",
   "execution_count": null,
   "id": "eec02342-0c64-491b-9044-259858e86c49",
   "metadata": {},
   "outputs": [],
   "source": [
    "sample_text = \"\"\"\n",
    "Couronnés de thym et de marjolaine,\n",
    "Les Elfes joyeux dansent sur la plaine.\n",
    "\n",
    "Du sentier des bois aux daims familier,\n",
    "Sur un noir cheval, sort un chevalier.\n",
    "Son éperon d'or brille en la nuit brune ;\n",
    "Et, quand il traverse un ravon de lune,\n",
    "On voit resplendir, d'un reflet changeant,\n",
    "Sur sa chevelure un casque d'argent.\n",
    "\n",
    "Couronnés de thym et de marjolaine,\n",
    "Les Elfes joyeux dansent sur la plaine.\n",
    "\n",
    "Ils l'entourent tous d'un essaim léger\n",
    "Qui dans l'air muet semble voltiger.\n",
    "- Hardi chevalier, par la nuit sereine,\n",
    "Où vas-tu si tard ? dit la jeune Reine.\n",
    "De mauvais esprits hantent les forêts\n",
    "Viens danser plutôt sur les gazons frais.\n",
    "\"\"\""
   ]
  },
  {
   "cell_type": "code",
   "execution_count": null,
   "id": "40b4ca45-75f8-4b77-80dd-3dda95fef94c",
   "metadata": {},
   "outputs": [],
   "source": []
  }
 ],
 "metadata": {
  "kernelspec": {
   "display_name": "Python 3 (ipykernel)",
   "language": "python",
   "name": "python3"
  },
  "language_info": {
   "codemirror_mode": {
    "name": "ipython",
    "version": 3
   },
   "file_extension": ".py",
   "mimetype": "text/x-python",
   "name": "python",
   "nbconvert_exporter": "python",
   "pygments_lexer": "ipython3",
   "version": "3.12.4"
  }
 },
 "nbformat": 4,
 "nbformat_minor": 5
}
